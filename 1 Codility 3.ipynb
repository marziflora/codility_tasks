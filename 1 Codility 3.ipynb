{
 "cells": [
  {
   "cell_type": "code",
   "execution_count": 19,
   "metadata": {},
   "outputs": [
    {
     "data": {
      "text/plain": [
       "-1"
      ]
     },
     "execution_count": 19,
     "metadata": {},
     "output_type": "execute_result"
    }
   ],
   "source": [
    "# Frog River One\n",
    "def solution(X, A):\n",
    "    way = list(range(1,X+1))\n",
    "    for i,a in enumerate(A):\n",
    "        if a in way: way.remove(a)\n",
    "        if not way:\n",
    "            return i\n",
    "    return -1\n",
    "\n",
    "X = 5 #place it wants to go and every on way\n",
    "A = [1,3,1,4,2,3,5,4]\n",
    "\n",
    "X = 2\n",
    "A= [2, 2, 2, 2, 2]\n",
    " \n",
    "solution(X,A)"
   ]
  },
  {
   "cell_type": "code",
   "execution_count": 23,
   "metadata": {},
   "outputs": [
    {
     "data": {
      "text/plain": [
       "-1"
      ]
     },
     "execution_count": 23,
     "metadata": {},
     "output_type": "execute_result"
    }
   ],
   "source": [
    "def solution(X, A):\n",
    "    way = []\n",
    "    for i,a in enumerate(A):\n",
    "        if a not in way: way.append(a)\n",
    "        if sorted(way) == list(range(1,X+1)):\n",
    "            return i\n",
    "    return -1\n",
    "\n",
    "X = 5 #place it wants to go and every on way\n",
    "A = [1,3,1,4,2,3,5,4]\n",
    "\n",
    "X = 2\n",
    "A= [2, 2, 2, 2, 2]\n",
    " \n",
    "solution(X,A)"
   ]
  },
  {
   "cell_type": "code",
   "execution_count": 69,
   "metadata": {},
   "outputs": [
    {
     "data": {
      "text/plain": [
       "[3, 2, 2, 4, 2]"
      ]
     },
     "execution_count": 69,
     "metadata": {},
     "output_type": "execute_result"
    }
   ],
   "source": [
    "# Max counters\n",
    "def solution(N, A):\n",
    "    solution = [0]*N\n",
    "    max_counter = 0\n",
    "    for i, a in enumerate(A):\n",
    "        if a!= N+1:\n",
    "            solution[a-1] +=1\n",
    "        else:\n",
    "            max_counter = max(solution)\n",
    "            solution = N*[max_counter]\n",
    "    return solution\n",
    "    \n",
    "N = 5\n",
    "A = [3,4,4,6,1,4,4]\n",
    "\n",
    "solution(N,A)"
   ]
  },
  {
   "cell_type": "code",
   "execution_count": 72,
   "metadata": {},
   "outputs": [
    {
     "data": {
      "text/plain": [
       "1"
      ]
     },
     "execution_count": 72,
     "metadata": {},
     "output_type": "execute_result"
    }
   ],
   "source": [
    "# Missing integer\n",
    "def solution(A):\n",
    "    x = 1\n",
    "    while x in sorted(A):\n",
    "        x+=1\n",
    "    return x\n",
    "\n",
    "solution([1,2,3])\n",
    "solution([-1,-3])"
   ]
  },
  {
   "cell_type": "code",
   "execution_count": 96,
   "metadata": {},
   "outputs": [
    {
     "name": "stdout",
     "output_type": "stream",
     "text": [
      "[1, 2, 3, 4, 6] 6 5\n"
     ]
    },
    {
     "data": {
      "text/plain": [
       "5"
      ]
     },
     "execution_count": 96,
     "metadata": {},
     "output_type": "execute_result"
    }
   ],
   "source": [
    "A = [3,4,4,-5, 2, -6, 6,1,4,4]\n",
    "A = [-1,-3]\n",
    "A = [1, 3, 6, 4, 1, 2]\n",
    "\n",
    "def solution(A):\n",
    "    x = 1\n",
    "    A = [a for a in sorted(set(A)) if a>0]\n",
    "    if A:\n",
    "        print(A, max(A), len(A))\n",
    "        if max(A) == len(A):\n",
    "            return len(A)+1\n",
    "    while x in A:\n",
    "        x+=1\n",
    "    return x\n",
    "\n",
    "solution(A)\n",
    "# solution([-1,-3])"
   ]
  },
  {
   "cell_type": "code",
   "execution_count": 203,
   "metadata": {},
   "outputs": [
    {
     "data": {
      "text/plain": [
       "1"
      ]
     },
     "execution_count": 203,
     "metadata": {},
     "output_type": "execute_result"
    }
   ],
   "source": [
    "#PermCheck\n",
    "def solution(A):\n",
    "    x = 1\n",
    "    for i in sorted(A):\n",
    "        if x!=i:\n",
    "            return 0\n",
    "        else:\n",
    "            x+=1\n",
    "    return 1\n",
    "    \n",
    "solution([4,1,3,2])"
   ]
  },
  {
   "cell_type": "code",
   "execution_count": 99,
   "metadata": {},
   "outputs": [
    {
     "data": {
      "text/plain": [
       "20"
      ]
     },
     "execution_count": 99,
     "metadata": {},
     "output_type": "execute_result"
    }
   ],
   "source": [
    "#DivCounts\n",
    "def solution(A, B, K):\n",
    "    X = range(A,B+1)\n",
    "    out = 0\n",
    "    for x in X:\n",
    "        if x%K == 0:\n",
    "            out +=1\n",
    "    return out\n",
    "    \n",
    "A = 6\n",
    "B = 11\n",
    "K = 2\n",
    "\n",
    "A = 11\n",
    "B = 345\n",
    "K = 17\n",
    "solution(A, B,K)"
   ]
  },
  {
   "cell_type": "code",
   "execution_count": 125,
   "metadata": {},
   "outputs": [
    {
     "data": {
      "text/plain": [
       "[2]"
      ]
     },
     "execution_count": 125,
     "metadata": {},
     "output_type": "execute_result"
    }
   ],
   "source": [
    "# GenomicRangeQuery\n",
    "def solution(S, P, Q):\n",
    "    slo = {'A':1, 'C':2, 'G':3, 'T':4}\n",
    "    out = []\n",
    "    for i,j in zip(P,Q):\n",
    "        out_ = []\n",
    "        if min(S[i:j+1]) == max(S[i:j+1]):\n",
    "            print(S[i:j+1])\n",
    "            out_.append(slo[S[i]])\n",
    "        else:\n",
    "            for k in S[i:j+1]:\n",
    "                out_.append(slo[k])\n",
    "        out.append(min(out_))\n",
    "    return out\n",
    "        \n",
    "S = 'C'\n",
    "P = [2,5,0]\n",
    "Q = [4,5,6]\n",
    "solution(S, P, Q)"
   ]
  },
  {
   "cell_type": "code",
   "execution_count": 119,
   "metadata": {},
   "outputs": [
    {
     "data": {
      "text/plain": [
       "4"
      ]
     },
     "execution_count": 119,
     "metadata": {},
     "output_type": "execute_result"
    }
   ],
   "source": [
    "slo = {'A':1, 'C':2, 'G':3, 'T':4}\n",
    "slo['T']"
   ]
  },
  {
   "cell_type": "code",
   "execution_count": 177,
   "metadata": {},
   "outputs": [
    {
     "data": {
      "text/plain": [
       "1"
      ]
     },
     "execution_count": 177,
     "metadata": {},
     "output_type": "execute_result"
    }
   ],
   "source": [
    "#MinAvgTwoSlice\n",
    "def solution(A):\n",
    "    pos_start = None\n",
    "    for i,a in enumerate(A):\n",
    "        for j,b in enumerate(A):\n",
    "            if i<j:\n",
    "                if pos_start is not None:\n",
    "                    min_value = sum(A[i:j+1])/(j-i+1)\n",
    "                    pos_start = i if min_value < min_value_first else pos_start\n",
    "                    min_value_first = min_value if min_value < min_value_first else min_value_first\n",
    "                else:\n",
    "                    pos_start = i\n",
    "                    min_value_first = sum(A[i:j+1])/(j-i+1)\n",
    "    return pos_start\n",
    "\n",
    "A = [4,2,2,5,1,5,8]\n",
    "solution(A)"
   ]
  },
  {
   "cell_type": "code",
   "execution_count": 202,
   "metadata": {},
   "outputs": [
    {
     "data": {
      "text/plain": [
       "5"
      ]
     },
     "execution_count": 202,
     "metadata": {},
     "output_type": "execute_result"
    }
   ],
   "source": [
    "# Passing Cars\n",
    "def solution(A):\n",
    "    poss = 0\n",
    "    for (i,a) in enumerate(A):\n",
    "        for (j,b) in enumerate(A):\n",
    "            if j>i and a==0 and b==1:\n",
    "                poss+=1\n",
    "                if poss>1000000000:\n",
    "                    return -1\n",
    "    return poss\n",
    "    \n",
    "A = [0,1,0,1,1]\n",
    "solution(A)"
   ]
  },
  {
   "cell_type": "code",
   "execution_count": null,
   "metadata": {},
   "outputs": [],
   "source": []
  },
  {
   "cell_type": "code",
   "execution_count": null,
   "metadata": {},
   "outputs": [],
   "source": []
  }
 ],
 "metadata": {
  "hide_input": false,
  "kernelspec": {
   "display_name": "Python 3",
   "language": "python",
   "name": "python3"
  },
  "language_info": {
   "codemirror_mode": {
    "name": "ipython",
    "version": 3
   },
   "file_extension": ".py",
   "mimetype": "text/x-python",
   "name": "python",
   "nbconvert_exporter": "python",
   "pygments_lexer": "ipython3",
   "version": "3.7.4"
  }
 },
 "nbformat": 4,
 "nbformat_minor": 2
}
